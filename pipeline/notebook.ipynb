{
 "cells": [
  {
   "cell_type": "code",
   "execution_count": 3,
   "id": "17cb65bc-3faf-4b1b-8010-d3cbdef3f92a",
   "metadata": {},
   "outputs": [
    {
     "name": "stdout",
     "output_type": "stream",
     "text": [
      "Collecting opencv-python\n",
      "  Downloading opencv_python-4.9.0.80-cp37-abi3-macosx_10_16_x86_64.whl.metadata (20 kB)\n",
      "Requirement already satisfied: numpy>=1.17.0 in /Applications/anaconda3/lib/python3.9/site-packages (from opencv-python) (1.26.2)\n",
      "Downloading opencv_python-4.9.0.80-cp37-abi3-macosx_10_16_x86_64.whl (55.7 MB)\n",
      "\u001b[2K   \u001b[90m━━━━━━━━━━━━━━━━━━━━━━━━━━━━━━━━━━━━━━━━\u001b[0m \u001b[32m55.7/55.7 MB\u001b[0m \u001b[31m13.6 MB/s\u001b[0m eta \u001b[36m0:00:00\u001b[0m00:01\u001b[0m00:01\u001b[0m\n",
      "\u001b[?25hInstalling collected packages: opencv-python\n",
      "Successfully installed opencv-python-4.9.0.80\n"
     ]
    }
   ],
   "source": [
    "!pip install opencv-python"
   ]
  },
  {
   "cell_type": "code",
   "execution_count": 1,
   "id": "b15cfadf-8111-4491-a7eb-10be183e6691",
   "metadata": {},
   "outputs": [],
   "source": [
    "import cv2\n",
    "from PIL import Image\n",
    "import numpy as np"
   ]
  },
  {
   "cell_type": "code",
   "execution_count": 8,
   "id": "22da9861",
   "metadata": {},
   "outputs": [],
   "source": [
    "depth_image_path = \"depth_map2.png\"\n",
    "depth_image = Image.open(depth_image_path)\n",
    "depth_array = np.array(depth_image)\n",
    "inverted_depth_array = np.abs(depth_array - 2**16 - 1)\n",
    "inverted_depth_array_uint16 = inverted_depth_array.astype(np.uint16)\n",
    "inverted_depth_image = Image.fromarray(inverted_depth_array_uint16)\n",
    "inverted_depth_image.save(\"inverted_depth_map2.png\")"
   ]
  },
  {
   "cell_type": "code",
   "execution_count": 3,
   "id": "ece05fe2",
   "metadata": {},
   "outputs": [
    {
     "name": "stdout",
     "output_type": "stream",
     "text": [
      "Collecting scikit-image\n",
      "  Obtaining dependency information for scikit-image from https://files.pythonhosted.org/packages/2f/2c/eddc3099cfd359e5ebe1b589e885f95a8fbcb1be44d7299d2e0ebcca686c/scikit_image-0.19.3-cp37-cp37m-macosx_10_13_x86_64.whl.metadata\n",
      "  Downloading scikit_image-0.19.3-cp37-cp37m-macosx_10_13_x86_64.whl.metadata (8.0 kB)\n",
      "Requirement already satisfied: numpy>=1.17.0 in /Applications/anaconda3/envs/synrd/lib/python3.7/site-packages (from scikit-image) (1.21.6)\n",
      "Requirement already satisfied: scipy>=1.4.1 in /Applications/anaconda3/envs/synrd/lib/python3.7/site-packages (from scikit-image) (1.7.3)\n",
      "Requirement already satisfied: networkx>=2.2 in /Applications/anaconda3/envs/synrd/lib/python3.7/site-packages (from scikit-image) (2.6.3)\n",
      "Requirement already satisfied: pillow!=7.1.0,!=7.1.1,!=8.3.0,>=6.1.0 in /Applications/anaconda3/envs/synrd/lib/python3.7/site-packages (from scikit-image) (9.5.0)\n",
      "Collecting imageio>=2.4.1 (from scikit-image)\n",
      "  Obtaining dependency information for imageio>=2.4.1 from https://files.pythonhosted.org/packages/7b/88/59411e1a652ac3338d348901ffa5a73daf1f67fcb3f97d750237d4fa0821/imageio-2.31.2-py3-none-any.whl.metadata\n",
      "  Downloading imageio-2.31.2-py3-none-any.whl.metadata (4.7 kB)\n",
      "Collecting tifffile>=2019.7.26 (from scikit-image)\n",
      "  Obtaining dependency information for tifffile>=2019.7.26 from https://files.pythonhosted.org/packages/d8/38/85ae5ed77598ca90558c17a2f79ddaba33173b31cf8d8f545d34d9134f0d/tifffile-2021.11.2-py3-none-any.whl.metadata\n",
      "  Downloading tifffile-2021.11.2-py3-none-any.whl.metadata (29 kB)\n",
      "Collecting PyWavelets>=1.1.1 (from scikit-image)\n",
      "  Obtaining dependency information for PyWavelets>=1.1.1 from https://files.pythonhosted.org/packages/f9/25/1587f04d6805e2b115be398e023b7e68478b570aaa2c92948b98d7d2571c/PyWavelets-1.3.0-cp37-cp37m-macosx_10_13_x86_64.whl.metadata\n",
      "  Downloading PyWavelets-1.3.0-cp37-cp37m-macosx_10_13_x86_64.whl.metadata (1.9 kB)\n",
      "Requirement already satisfied: packaging>=20.0 in /Applications/anaconda3/envs/synrd/lib/python3.7/site-packages (from scikit-image) (23.2)\n",
      "Downloading scikit_image-0.19.3-cp37-cp37m-macosx_10_13_x86_64.whl (13.2 MB)\n",
      "\u001b[2K   \u001b[90m━━━━━━━━━━━━━━━━━━━━━━━━━━━━━━━━━━━━━━━━\u001b[0m \u001b[32m13.2/13.2 MB\u001b[0m \u001b[31m2.3 MB/s\u001b[0m eta \u001b[36m0:00:00\u001b[0m00:01\u001b[0m00:01\u001b[0m\n",
      "\u001b[?25hDownloading imageio-2.31.2-py3-none-any.whl (313 kB)\n",
      "\u001b[2K   \u001b[90m━━━━━━━━━━━━━━━━━━━━━━━━━━━━━━━━━━━━━━━━\u001b[0m \u001b[32m313.2/313.2 kB\u001b[0m \u001b[31m2.1 MB/s\u001b[0m eta \u001b[36m0:00:00\u001b[0ma \u001b[36m0:00:01\u001b[0m\n",
      "\u001b[?25hDownloading PyWavelets-1.3.0-cp37-cp37m-macosx_10_13_x86_64.whl (4.3 MB)\n",
      "\u001b[2K   \u001b[90m━━━━━━━━━━━━━━━━━━━━━━━━━━━━━━━━━━━━━━━━\u001b[0m \u001b[32m4.3/4.3 MB\u001b[0m \u001b[31m2.4 MB/s\u001b[0m eta \u001b[36m0:00:00\u001b[0m00:01\u001b[0m00:01\u001b[0m\n",
      "\u001b[?25hDownloading tifffile-2021.11.2-py3-none-any.whl (178 kB)\n",
      "\u001b[2K   \u001b[90m━━━━━━━━━━━━━━━━━━━━━━━━━━━━━━━━━━━━━━━━\u001b[0m \u001b[32m178.9/178.9 kB\u001b[0m \u001b[31m2.4 MB/s\u001b[0m eta \u001b[36m0:00:00\u001b[0ma \u001b[36m0:00:01\u001b[0m\n",
      "\u001b[?25hInstalling collected packages: tifffile, PyWavelets, imageio, scikit-image\n",
      "Successfully installed PyWavelets-1.3.0 imageio-2.31.2 scikit-image-0.19.3 tifffile-2021.11.2\n"
     ]
    }
   ],
   "source": [
    "# !pip install scikit-image"
   ]
  },
  {
   "cell_type": "code",
   "execution_count": 1,
   "id": "07312789",
   "metadata": {},
   "outputs": [],
   "source": [
    "import cv2\n",
    "import numpy as np\n",
    "from skimage.util import random_noise\n",
    " \n",
    "# Load the image\n",
    "img = cv2.imread(\"/Users/vmaksymiuk/Downloads/thesis/to_depth/0.png\")\n",
    " \n",
    "# Add salt-and-pepper noise to the image.\n",
    "noise_img = random_noise(img, mode='s&p',amount=0.3)\n",
    " \n",
    "# The above function returns a floating-point image\n",
    "# on the range [0, 1], thus we changed it to 'uint8'\n",
    "# and from [0,255]\n",
    "noise_img = np.array(255*noise_img, dtype = 'uint8')\n",
    " \n",
    "# Display the noise image\n",
    "cv2.imshow('blur',noise_img)\n",
    "cv2.waitKey(0)"
   ]
  }
 ],
 "metadata": {
  "kernelspec": {
   "display_name": "Python 3 (ipykernel)",
   "language": "python",
   "name": "python3"
  },
  "language_info": {
   "codemirror_mode": {
    "name": "ipython",
    "version": 3
   },
   "file_extension": ".py",
   "mimetype": "text/x-python",
   "name": "python",
   "nbconvert_exporter": "python",
   "pygments_lexer": "ipython3",
   "version": "3.7.16"
  }
 },
 "nbformat": 4,
 "nbformat_minor": 5
}
