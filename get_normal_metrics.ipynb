{
 "cells": [
  {
   "cell_type": "code",
   "execution_count": 1,
   "metadata": {},
   "outputs": [],
   "source": [
    "from diode import DIODE, plot_depth_map, plot_normal_map\n",
    "import matplotlib.pyplot as plt\n",
    "import numpy as np\n",
    "from metrics import *"
   ]
  },
  {
   "cell_type": "code",
   "execution_count": 2,
   "metadata": {},
   "outputs": [],
   "source": [
    "all_names = []\n",
    "\n",
    "existing_names = set()\n",
    "for root, dirs, files in os.walk(\"full_dataset/depth_maps\"):\n",
    "    for file in files:\n",
    "        base_name = file.split(\"_depth_\")[0]\n",
    "        all_names.append(base_name)"
   ]
  },
  {
   "cell_type": "code",
   "execution_count": 3,
   "metadata": {},
   "outputs": [],
   "source": [
    "metric = Metric()"
   ]
  },
  {
   "cell_type": "code",
   "execution_count": 4,
   "metadata": {},
   "outputs": [
    {
     "name": "stdout",
     "output_type": "stream",
     "text": [
      "Evaluation results for bilateral saved to: evaluation_results/bilateral_evaluation.txt\n",
      "Evaluation results for gauss saved to: evaluation_results/gauss_evaluation.txt\n",
      "Evaluation results for median saved to: evaluation_results/median_evaluation.txt\n",
      "Evaluation results for circular saved to: evaluation_results/circular_evaluation.txt\n",
      "Evaluation results for none saved to: evaluation_results/none_evaluation.txt\n"
     ]
    }
   ],
   "source": [
    "gt_normals = \"full_dataset/ground_truth_normals\"\n",
    "pred_normals = \"full_dataset/normals\"\n",
    "filter_names = [\"bilateral\", \"gauss\", \"median\", \"circular\", \"none\"]\n",
    "output_directory = \"evaluation_results\"\n",
    "\n",
    "for filter in filter_names:\n",
    "    for name in all_names:\n",
    "        gt_path = f\"{gt_normals}/{name}_normal.npy\"\n",
    "        pred_path = f\"{pred_normals}/{name}_normal_{filter}.npy\"\n",
    "        \n",
    "        gt_normal = np.load(gt_path)\n",
    "        pred_normal = np.load(pred_path)\n",
    "        metric.update_norm(gt_normal, pred_normal, filter)\n",
    "\n",
    "metric.save_results(output_directory)"
   ]
  }
 ],
 "metadata": {
  "kernelspec": {
   "display_name": "synrd",
   "language": "python",
   "name": "python3"
  },
  "language_info": {
   "codemirror_mode": {
    "name": "ipython",
    "version": 3
   },
   "file_extension": ".py",
   "mimetype": "text/x-python",
   "name": "python",
   "nbconvert_exporter": "python",
   "pygments_lexer": "ipython3",
   "version": "3.7.16"
  }
 },
 "nbformat": 4,
 "nbformat_minor": 2
}
